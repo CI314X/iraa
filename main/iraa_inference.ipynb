{
 "cells": [
  {
   "cell_type": "code",
   "execution_count": null,
   "metadata": {},
   "outputs": [],
   "source": [
    "import numpy as np\n",
    "import math\n",
    "import matplotlib.pyplot as plt\n",
    "import torch\n",
    "import torch.nn as nn\n",
    "from torch.nn.functional import pad\n",
    "from torch.utils.data import Dataset, DataLoader\n",
    "from torchvision import transforms as T\n",
    "from PIL import Image\n",
    "from tqdm import tqdm\n",
    "from glob import glob"
   ]
  },
  {
   "cell_type": "markdown",
   "metadata": {},
   "source": [
    "# Load model"
   ]
  },
  {
   "cell_type": "markdown",
   "metadata": {},
   "source": [
    "## Architecture"
   ]
  },
  {
   "cell_type": "code",
   "execution_count": 2,
   "metadata": {},
   "outputs": [],
   "source": [
    "class CNNBlock(nn.Module):\n",
    "    def __init__(self, in_channels, out_channels, pool_kernel_size=None):\n",
    "        super(CNNBlock, self).__init__()\n",
    "\n",
    "        self.conv1 = nn.Conv2d(in_channels, out_channels, kernel_size=(3, 3), padding=(1, 1), bias=True)\n",
    "        self.conv2 = nn.Conv2d(out_channels, out_channels, kernel_size=(3, 3), padding=(1, 1), bias=True)\n",
    "        \n",
    "        self.relu = nn.ReLU(inplace=True)\n",
    "        self.maxpool = nn.MaxPool2d((pool_kernel_size, pool_kernel_size)) if pool_kernel_size is not None else nn.Identity()\n",
    "        \n",
    "    def forward(self, x):\n",
    "        x = self.conv1(x)\n",
    "        x = self.relu(x)\n",
    "        x = self.conv2(x)\n",
    "        x = self.relu(x)\n",
    "        x = self.maxpool(x)\n",
    "        return x\n",
    "\n",
    "\n",
    "class IRAA(nn.Module):\n",
    "    def __init__(self, n_classes=1, dropout=0.05, pool_kernel_size=None, average_pool_size=1):\n",
    "        super().__init__()\n",
    "        self.encoder = nn.Sequential(\n",
    "            CNNBlock(3, 64, pool_kernel_size=pool_kernel_size),\n",
    "            nn.Dropout2d(dropout),\n",
    "            CNNBlock(64, 32, pool_kernel_size=pool_kernel_size),\n",
    "            nn.Dropout2d(dropout),\n",
    "            CNNBlock(32, 16, pool_kernel_size=pool_kernel_size),\n",
    "            nn.AdaptiveAvgPool2d((average_pool_size, average_pool_size)),\n",
    "        )\n",
    "        self.flatten = nn.Flatten()\n",
    "        self.decoder = nn.Sequential(\n",
    "            nn.Linear(16 * average_pool_size * average_pool_size, 32),\n",
    "            nn.ReLU(),\n",
    "            nn.Linear(32, n_classes),\n",
    "            nn.Sigmoid() \n",
    "        )\n",
    "    \n",
    "    def forward(self, x):\n",
    "        x = self.encoder(x)\n",
    "        x = self.flatten(x)\n",
    "        x = self.decoder(x)\n",
    "        return x * 3"
   ]
  },
  {
   "cell_type": "markdown",
   "metadata": {},
   "source": [
    "## Load weights"
   ]
  },
  {
   "cell_type": "code",
   "execution_count": 34,
   "metadata": {},
   "outputs": [],
   "source": [
    "device = torch.device(\"cuda:2\" if torch.cuda.is_available() else \"cpu\")\n",
    "path_to_model_weights = '../data/weights/iraa.pt'"
   ]
  },
  {
   "cell_type": "code",
   "execution_count": 35,
   "metadata": {},
   "outputs": [
    {
     "data": {
      "text/plain": [
       "<All keys matched successfully>"
      ]
     },
     "execution_count": 35,
     "metadata": {},
     "output_type": "execute_result"
    }
   ],
   "source": [
    "model = IRAA(pool_kernel_size=3, average_pool_size=3, dropout=0.1)\n",
    "checkpoint = torch.load(path_to_model_weights, map_location=device)\n",
    "model.load_state_dict(checkpoint)"
   ]
  },
  {
   "cell_type": "code",
   "execution_count": 22,
   "metadata": {},
   "outputs": [],
   "source": [
    "model.eval();"
   ]
  },
  {
   "cell_type": "markdown",
   "metadata": {},
   "source": [
    "# Load data"
   ]
  },
  {
   "cell_type": "code",
   "execution_count": null,
   "metadata": {},
   "outputs": [],
   "source": [
    "simple_transforms = T.Compose([\n",
    "    T.ToTensor(),\n",
    "    T.Normalize([0.5, 0.5, 0.5], [0.25, 0.25, 0.25]),\n",
    "])\n",
    "\n",
    "def collate_padding(batch):\n",
    "    max_h = max([b.shape[1] for b in batch])\n",
    "    max_w = max([b.shape[2] for b in batch])\n",
    "    h = 2 ** math.ceil(np.log2(max_h))\n",
    "    w = 2 ** math.ceil(np.log2(max_w))\n",
    "    imgs = torch.zeros(len(batch), 3, h, w)\n",
    "    for i, im in enumerate(batch):\n",
    "        new_w = int((w - im.shape[2]) / 2)\n",
    "        new_h = int((h - im.shape[1]) / 2)\n",
    "        imgs[i] = pad(im, pad=(new_w, w - new_w - im.shape[2], new_h, h - new_h - im.shape[1]), value=0)\n",
    "    return imgs\n",
    "\n",
    "class ImageGainDataset(Dataset):\n",
    "    def __init__(self, images: list, transforms=None):\n",
    "        self.images = images\n",
    "        self.transforms = transforms\n",
    "        \n",
    "    def __len__(self):\n",
    "        return len(self.images)\n",
    "\n",
    "    def __getitem__(self, idx):\n",
    "        filename = self.images[idx]\n",
    "        image = Image.open(filename).convert('RGB')\n",
    "        \n",
    "        image_np = np.array(image)\n",
    "        if len(image_np.shape) == 2:\n",
    "            image_np = image_np[:, :, None]\n",
    "            image_np = np.concatenate((image_np, image_np, image_np), axis=2)\n",
    "            image = Image.fromarray(image_np)            \n",
    "        \n",
    "        if self.transforms:\n",
    "            image = self.transforms(image)\n",
    "        return image\n",
    "    \n",
    "def predict(model, dataloader, device):\n",
    "    model.to(device)\n",
    "    model.eval()\n",
    "    all_scores = []\n",
    "    with torch.no_grad():\n",
    "        for batch_images in tqdm(dataloader, total=len(dataloader), desc=\"eval\"):\n",
    "            scores = model(batch_images.to(device)).detach().cpu()\n",
    "            all_scores.extend(scores.numpy())\n",
    "    return np.array(all_scores).flatten()"
   ]
  },
  {
   "cell_type": "code",
   "execution_count": 24,
   "metadata": {},
   "outputs": [
    {
     "name": "stdout",
     "output_type": "stream",
     "text": [
      "Number of examples: 22\n"
     ]
    }
   ],
   "source": [
    "path_to_imgs = '../data/train2017_coco_examples'\n",
    "images = glob(f\"{path_to_imgs}/*\")\n",
    "print(f\"Number of examples: {len(images)}\")"
   ]
  },
  {
   "cell_type": "code",
   "execution_count": 25,
   "metadata": {},
   "outputs": [
    {
     "data": {
      "text/plain": [
       "22"
      ]
     },
     "execution_count": 25,
     "metadata": {},
     "output_type": "execute_result"
    }
   ],
   "source": [
    "batch_size = 2\n",
    "dataset = ImageGainDataset(images, transforms=simple_transforms)\n",
    "dataloader = DataLoader(dataset, batch_size=batch_size, num_workers=0, shuffle=False, collate_fn=collate_padding)\n",
    "len(dataset)"
   ]
  },
  {
   "cell_type": "markdown",
   "metadata": {},
   "source": [
    "# Apply model"
   ]
  },
  {
   "cell_type": "code",
   "execution_count": 61,
   "metadata": {},
   "outputs": [
    {
     "name": "stdout",
     "output_type": "stream",
     "text": [
      "Score of one image: 0.7021\n"
     ]
    }
   ],
   "source": [
    "score_of_image = model(dataset[0][None, :])[0][0].item()\n",
    "print(f\"Score of one image: {score_of_image:.4f}\")"
   ]
  },
  {
   "cell_type": "code",
   "execution_count": 27,
   "metadata": {},
   "outputs": [
    {
     "name": "stderr",
     "output_type": "stream",
     "text": [
      "eval: 100%|██████████| 11/11 [00:20<00:00,  1.88s/it]\n"
     ]
    },
    {
     "data": {
      "text/plain": [
       "1.8409942"
      ]
     },
     "execution_count": 27,
     "metadata": {},
     "output_type": "execute_result"
    }
   ],
   "source": [
    "scores = predict(model, dataloader, device)\n",
    "print(np.mean(scores))"
   ]
  },
  {
   "cell_type": "code",
   "execution_count": 31,
   "metadata": {},
   "outputs": [
    {
     "data": {
      "image/png": "[encoded data removed]",
      "text/plain": [
       "<Figure size 1000x400 with 1 Axes>"
      ]
     },
     "metadata": {},
     "output_type": "display_data"
    }
   ],
   "source": [
    "plt.figure(figsize=(10, 4))\n",
    "plt.hist(scores, bins=100)\n",
    "plt.title('Histogram of the IRI scores')\n",
    "plt.show()"
   ]
  },
  {
   "cell_type": "markdown",
   "metadata": {},
   "source": [
    "# Datasets robustness"
   ]
  },
  {
   "cell_type": "code",
   "execution_count": 172,
   "metadata": {},
   "outputs": [
    {
     "name": "stdout",
     "output_type": "stream",
     "text": [
      "CID2013: 2.488\n",
      "DIV2K: 1.952\n",
      "KADID_10k: 1.834\n",
      "LIVE_in_the_WILD: 2.428\n",
      "MS_COCO_test2017: 1.808\n",
      "NIPS2017: 1.648\n",
      "PIPAL: 2.120\n",
      "TID2013: 2.160\n"
     ]
    }
   ],
   "source": [
    "path_to_datasets = '../data/dataset_robustness'\n",
    "files = sorted(glob(f\"{path_to_datasets}/*.npy\"))\n",
    "for file in files:\n",
    "    with open(file, 'rb') as f:\n",
    "        scores = np.load(f)\n",
    "        mean_score = np.mean(scores)\n",
    "    print(f\"{file.split('/')[-1].split('.npy')[0]}: {mean_score:.3f}\")"
   ]
  },
  {
   "cell_type": "code",
   "execution_count": null,
   "metadata": {},
   "outputs": [],
   "source": []
  }
 ],
 "metadata": {
  "kernelspec": {
   "display_name": "py310",
   "language": "python",
   "name": "python3"
  },
  "language_info": {
   "codemirror_mode": {
    "name": "ipython",
    "version": 3
   },
   "file_extension": ".py",
   "mimetype": "text/x-python",
   "name": "python",
   "nbconvert_exporter": "python",
   "pygments_lexer": "ipython3",
   "version": "3.9.16"
  }
 },
 "nbformat": 4,
 "nbformat_minor": 2
}
